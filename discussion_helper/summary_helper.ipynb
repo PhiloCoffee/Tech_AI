{
 "cells": [
  {
   "cell_type": "markdown",
   "metadata": {},
   "source": [
    "# The Paper reading Co-pilot\n",
    "Here is a light chatbot, empowered by GPT-3.5, aiming at summarizing the paper and load it into the folder you want.\n",
    "\n",
    "\n",
    "Original GPT is good for summarizing, and can handle output from sider/Monica with appropriate prompt\n",
    "During the discussion process, record the problems and thoughts encountered in the archive for further review and discussion in the future\n",
    "\n",
    "\n",
    "## Setup\n",
    "Notice: if you tried to run this program on your linux server, \n",
    "and you are in China,\n",
    "make sure that you opened the vpn. \n",
    "Otherwise the api account may be forbiddened!"
   ]
  },
  {
   "cell_type": "markdown",
   "metadata": {},
   "source": [
    "## Key loader:\n",
    "You should store your api key in the 'apikey.cn' and 'organization.cn' thus to avoid the risk of leaking your key online"
   ]
  },
  {
   "cell_type": "code",
   "execution_count": 30,
   "metadata": {},
   "outputs": [],
   "source": [
    "import os\n",
    "import openai\n",
    "from datetime import datetime\n",
    "\n",
    "def read_key_from_file(filepath):\n",
    "    with open(filepath, 'r') as file:\n",
    "        return file.read().strip()\n",
    "\n",
    "personal_key = read_key_from_file('key/apikey.cn')\n",
    "organ = read_key_from_file('key/organization.cn')\n",
    "\n",
    "openai.organization = organ\n",
    "openai.api_key  = personal_key\n",
    "\n",
    "TEMPERATURE = 0"
   ]
  },
  {
   "cell_type": "code",
   "execution_count": 31,
   "metadata": {},
   "outputs": [],
   "source": [
    "def get_completion(prompt, model=\"gpt-3.5-turbo-0613\"):\n",
    "    messages = [{\"role\": \"user\", \"content\": prompt}]\n",
    "    response = openai.ChatCompletion.create(\n",
    "        model=model,\n",
    "        messages=messages,\n",
    "        temperature= TEMPERATURE, # this is the degree of randomness of the model's output\n",
    "    )\n",
    "    return response\n",
    "    # return response.choices[0].message[\"content\"]\n",
    "\n",
    "def get_completion_from_messages(messages, model=\"gpt-3.5-turbo-0613\",temp = TEMPERATURE):\n",
    "    response = openai.ChatCompletion.create(\n",
    "        model=model,\n",
    "        messages=messages,\n",
    "        temperature= temp, # this is the degree of randomness of the model's output\n",
    "    )\n",
    "    print(str(response.choices[0].message[\"content\"]))\n",
    "    return response.choices[0].message[\"content\"]"
   ]
  },
  {
   "cell_type": "markdown",
   "metadata": {},
   "source": [
    "## Role msg:\n",
    "Here is a simple system prompt we make to do the paper summary task, feel free to copy, paste and modify it\n"
   ]
  },
  {
   "cell_type": "markdown",
   "metadata": {},
   "source": [
    "Chinese ver:"
   ]
  },
  {
   "cell_type": "markdown",
   "metadata": {},
   "source": [
    "作为论文阅读助手，你是一个有用的AI工具，基于GPT-3.5，你需要简洁准确地总结一篇学术论文。\n",
    "\n",
    "- 你将收到来自诸如Sider和Monica等AI的聊天记录，你的任务是将它们转化为结构化、简洁的摘要。\n",
    "\n",
    "- 你还将总结在总结过程中提出的潜在问题或有趣的观点。这些笔记将被归档以供将来进一步审查和讨论。\n",
    "\n",
    "- 所涉及的论文可能是2022年以后的，请根据用户提供的abstract 作为思考的总脉络\n",
    "\n",
    "- 输出格式为Markdown\n",
    "\n",
    "你的摘要应该足够详细以捕捉到关键点，但又足够简洁以节省研究人员的时间。你不仅是一个总结工具，还是一个协助研究人员理解和导航学术界的伙伴。记住，清晰和高效是你的最终目标。"
   ]
  },
  {
   "cell_type": "markdown",
   "metadata": {},
   "source": [
    "English ver:"
   ]
  },
  {
   "cell_type": "markdown",
   "metadata": {},
   "source": [
    "As a Paper Reading Assistant, you are a useful AI tool, based on GPT-3.5, and you are required to summarize academic papers succinctly and accurately.\n",
    "\n",
    "- You will receive chat history from AI such as Sider and Monica, and your task is to transform them into structured, concise summaries.\n",
    "\n",
    "- You will also summarize potential issues or interesting points raised during the summarization process. These notes will be archived for further review and discussion in the future.\n",
    "\n",
    "- The papers involved may be published after 2022. Please use the abstract provided by the user as the main context for your thought process.\n",
    "\n",
    "- The output format should be in Markdown.\n",
    "\n",
    "Your summaries should be detailed enough to capture the key points, yet concise enough to save the researcher's time. You are not just a summarization tool, but also a companion that assists researchers in comprehending and navigating the academic landscape. Remember, clarity and efficiency are your ultimate goals."
   ]
  },
  {
   "cell_type": "code",
   "execution_count": 32,
   "metadata": {},
   "outputs": [],
   "source": [
    "role_msg = \"\"\"\n",
    "As a Paper Reading Assistant, you are a useful AI tool, based on GPT-3.5, and you are required to summarize academic papers succinctly and accurately.\n",
    "\n",
    "- You will receive chat history from AI such as Sider and Monica, and your task is to transform them into structured, concise summaries.\n",
    "\n",
    "- You will also summarize potential issues or interesting points raised during the summarization process. These notes will be archived for further review and discussion in the future.\n",
    "\n",
    "- The papers involved may be published after 2022. Please use the abstract provided by the user as the main context for your thought process.\n",
    "\n",
    "- The output format should be in Markdown.\n",
    "\n",
    "Your summaries should be detailed enough to capture the key points, yet concise enough to save the researcher's time. You are not just a summarization tool, but also a companion that assists researchers in comprehending and navigating the academic landscape. Remember, clarity and efficiency are your ultimate goals.\n",
    "\n",
    "\"\"\""
   ]
  },
  {
   "cell_type": "code",
   "execution_count": 33,
   "metadata": {},
   "outputs": [],
   "source": [
    "                  \n",
    "def get_sys_msg(content:str): \n",
    "    system_msg = {\"role\": \"system\", \"content\": content}\n",
    "    return  system_msg\n",
    "def get_usr_msg(content:str): \n",
    "    msg = {\"role\": \"user\", \"content\": content}\n",
    "    return msg\n",
    "system_prompt  = get_sys_msg(role_msg)\n"
   ]
  },
  {
   "cell_type": "code",
   "execution_count": 34,
   "metadata": {},
   "outputs": [
    {
     "name": "stdout",
     "output_type": "stream",
     "text": [
      "From creating input devices to rendering tangible information, the field of HCI is interested in using kinematic mechanisms to create human-computer interfaces. Yet, due to fabrication and design challenges, it is often difficult to create kinematic devices that are compact and have multiple reconfigurable motional degrees of freedom (DOFs) depending on the interaction scenarios. In this work, we combine compliant mechanisms (CMs) with tensioning cables to create dynamically reconfigurable kinematic mechanisms. The devices’ kinematics (DOFs) is enabled and determined by the layout of bendable rods. The additional cables function as on-demand motion constraints that can dynamically lock or unlock the mechanism's DOFs as they are tightened or loosened. We provide algorithms and a design tool prototype to help users design such kinematic devices. We also demonstrate various HCI use cases including a kinematic haptic display, a haptic proxy, and a multimodal input device.\n"
     ]
    }
   ],
   "source": [
    "# Here is the demo code \n",
    "paper_name = \"ReCompFig: Designing Dynamically Reconfigurable Kinematic Devices Using Compliant Mechanisms and Tensioning Cables\"\n",
    "abstract = input(\"please paste the abstract of current paper\")\n",
    "print(abstract)"
   ]
  },
  {
   "cell_type": "code",
   "execution_count": 35,
   "metadata": {},
   "outputs": [
    {
     "name": "stdout",
     "output_type": "stream",
     "text": [
      "AI: Hello, welcome to read the article titled \"ReCompFig: Designing Dynamically Reconfigurable Kinem\n"
     ]
    }
   ],
   "source": [
    "# specify the directory\n",
    "\n",
    "file_path = \"input/demo_example.txt\"\n",
    "\n",
    "# read the file content\n",
    "with open(file_path, 'r') as file:\n",
    "    content = file.read()\n",
    "\n",
    "# print the content\n",
    "print(content[:100])\n"
   ]
  },
  {
   "cell_type": "code",
   "execution_count": 37,
   "metadata": {},
   "outputs": [
    {
     "name": "stdout",
     "output_type": "stream",
     "text": [
      "Notes:\n",
      "- The article focuses on designing dynamically reconfigurable kinematic devices using compliant mechanisms and tensioning cables.\n",
      "- The main challenge addressed is creating compact and versatile kinematic devices in HCI.\n",
      "- The ReCompFig framework combines compliant mechanisms and tensioning cables to enable multimodal and reconfigurable kinematic mechanisms.\n",
      "- The article provides algorithms, design tools, and application examples to showcase the potential of these devices in HCI.\n",
      "Notes:\n",
      "- The article focuses on designing dynamically reconfigurable kinematic devices using compliant mechanisms and tensioning cables.\n",
      "- The main challenge addressed is creating compact and versatile kinematic devices in HCI.\n",
      "- The ReCompFig framework combines compliant mechanisms and tensioning cables to enable multimodal and reconfigurable kinematic mechanisms.\n",
      "- The article provides algorithms, design tools, and application examples to showcase the potential of these devices in HCI.\n"
     ]
    }
   ],
   "source": [
    "def create_chat_history(abs,cont):\n",
    "    format = [\n",
    "        system_prompt, # global variable\n",
    "        {'role':'user', 'content':f'abstract:{abs}'},\n",
    "        {'role':'user', 'content':f'content:{cont}'},\n",
    "    ]\n",
    "    return format\n",
    "chat_history = create_chat_history(abstract,content)\n",
    "summary = get_completion_from_messages(chat_history)\n",
    "print(summary)\n"
   ]
  },
  {
   "cell_type": "code",
   "execution_count": 43,
   "metadata": {},
   "outputs": [
    {
     "name": "stdout",
     "output_type": "stream",
     "text": [
      "paper: name\n",
      "Abstract: From creating input devices to rendering tangible \n",
      "AI: Hello, welcome to read the article titled \"ReC\n",
      "Notes:\n",
      "- The article focuses on designing dynamically reconfigurable kinematic devices using compliant mechanisms and tensioning cables.\n",
      "- The main challenge addressed is creating compact and versatile kinematic devices in HCI.\n",
      "- The ReCompFig framework combines compliant mechanisms and tensioning cables to create multimodal and reconfigurable kinematic mechanisms.\n",
      "- The article provides algorithms, design tools, and application examples to showcase the capabilities of these devices in HCI.\n"
     ]
    }
   ],
   "source": [
    "# specify the directory\n",
    "input_dir = 'input/'\n",
    "output_dir = 'output/'\n",
    "files = os.listdir(input_dir)\n",
    "\n",
    "for file_name in files:\n",
    "    if not file_name.endswith('.txt'):\n",
    "        continue\n",
    "    paper_name = input(\"please paste the name of current paper:\")\n",
    "    print(\"paper:\", paper_name[:50])\n",
    "\n",
    "    abstract = input(\"Please paste the abstract of the current paper: \")\n",
    "    print(\"Abstract:\", abstract[:50])\n",
    "\n",
    "\n",
    "    file_path = os.path.join(input_dir, file_name)\n",
    "\n",
    "    # read the file content\n",
    "    with open(file_path, 'r') as file:\n",
    "        content = file.read()\n",
    "\n",
    "    # print the some of content\n",
    "    print(content[:50])\n",
    "\n",
    "    chat_history = create_chat_history(abstract, content)\n",
    "    summary = get_completion_from_messages(chat_history)\n",
    "\n",
    "    today = datetime.today().date()\n",
    "\n",
    "    # Create a Markdown file\n",
    "    md_file_name = os.path.join(output_dir, file_name[:12] + '.md')\n",
    "    with open(md_file_name, 'w') as md_file:\n",
    "        md_file.write(f\"# Summary of {paper_name}\\n\\n\")\n",
    "        md_file.write(\"Paper Summary Helper\\n\\n\")\n",
    "        md_file.write(f'Date:{today}\\n\\n')\n",
    "        md_file.write(f\"## Abstract\\n\\n{abstract}\\n\\n\")\n",
    "        md_file.write(f\"## Insight\\n\\n{summary}\\n\\n\")\n"
   ]
  }
 ],
 "metadata": {
  "kernelspec": {
   "display_name": "ece448",
   "language": "python",
   "name": "python3"
  },
  "language_info": {
   "codemirror_mode": {
    "name": "ipython",
    "version": 3
   },
   "file_extension": ".py",
   "mimetype": "text/x-python",
   "name": "python",
   "nbconvert_exporter": "python",
   "pygments_lexer": "ipython3",
   "version": "3.9.16"
  },
  "orig_nbformat": 4
 },
 "nbformat": 4,
 "nbformat_minor": 2
}
